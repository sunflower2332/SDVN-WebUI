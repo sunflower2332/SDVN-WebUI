{
  "cells": [
    {
      "cell_type": "markdown",
      "metadata": {
        "id": "gAg03nKay-G8"
      },
      "source": [
        "  # [![](https://img.shields.io/badge/Thiết%20kế-stablediffusion.vn-0075ff)](https://stablediffusion.vn) [![](https://img.shields.io/badge/Hướng%20dẫn%20-SD%20Nhập%20Môn-5858e6)](https://stablediffusion.vn/nhap-mon-stable-diffusion/) [![](https://img.shields.io/badge/Thư%20viện-Tài%20nguyên-green)](https://bit.ly/sdvn-lib) [![](https://img.shields.io/badge/Group-Support-0075ff)](https://www.facebook.com/groups/stablediffusion.vn)\n",
        "\n",
        "*`💡 Hỗ trợ CivitAI, Huggingface với link trực tiếp`*"
      ]
    },
    {
      "cell_type": "code",
      "execution_count": null,
      "metadata": {
        "cellView": "form",
        "id": "obOoPoj_3kju"
      },
      "outputs": [],
      "source": [
        "#@title 🧨 Download model\n",
        "import os,  requests, re\n",
        "from google.colab import drive\n",
        "drive.mount('/content/drive')\n",
        "\n",
        "\n",
        "Path = '/content/drive/MyDrive/SD-Data'\n",
        "CheckpointPath = f'{Path}/Model'\n",
        "LoraPath = f'{Path}/Lora'\n",
        "ControlnetPath = f'{Path}/ControlnetModel'\n",
        "\n",
        "Checkpoint__ = '' #@param{type:\"string\"}\n",
        "Lora_Link___ = '' #@param{type:\"string\"}\n",
        "Controlnet__ = '' #@param{type:\"string\"}\n",
        "\n",
        "drive_dict = {\n",
        "    CheckpointPath:Checkpoint__,\n",
        "    LoraPath:Lora_Link___,\n",
        "    ControlnetPath:Controlnet__\n",
        "}\n",
        "\n",
        "def civit_downlink(link):\n",
        "  !wget {link} -q -O model.html\n",
        "  try:\n",
        "      # Mở tệp và đọc nội dung\n",
        "      with open('model.html', 'r', encoding='utf-8') as file:\n",
        "          html_content = file.read()\n",
        "      pattern = r'\"modelVersionId\":(\\d+),'\n",
        "      model_id = re.findall(pattern, html_content)\n",
        "      if model_id:\n",
        "        api_link = f'https://civitai.com/api/download/models/{model_id[0]}'\n",
        "        print(f'Download model id_link: {api_link}')\n",
        "        return api_link\n",
        "      else:\n",
        "          return \"Không tìm thấy đoạn nội dung phù hợp.\"\n",
        "  except requests.RequestException as e:\n",
        "      return f\"Lỗi khi tải trang: {e}\"\n",
        "\n",
        "def check_link(link):\n",
        "  if 'huggingface.co' in link:\n",
        "    if 'blob' in link:\n",
        "      link = link.replace('blob', 'resolve')\n",
        "      return link\n",
        "    else:\n",
        "      return link\n",
        "  if 'civitai.com' in link:\n",
        "    if 'civitai.com/models' in link:\n",
        "      return civit_downlink(link)\n",
        "    else:\n",
        "      return link\n",
        "def token(link):\n",
        "  if \"civitai\" in link:\n",
        "    token = f'?token=8c7337ac0c39fe4133ae19a3d65b806f'\n",
        "  else:\n",
        "    token = \"\"\n",
        "  return token\n",
        "\n",
        "def check(path):\n",
        "    if not os.path.exists(path):\n",
        "        os.makedirs(path)\n",
        "def split_string_at(link):\n",
        "    delimiter = \"@=\"\n",
        "    if delimiter in link:\n",
        "        parts = link.split(delimiter)\n",
        "        if '.ckpt' not in parts[1] and '.gguf' not in parts[1] and '.safetensors' not in parts[1]:\n",
        "          parts[1] = f'{parts[1]}.safetensors'\n",
        "        return parts[0], parts[1]\n",
        "    else:\n",
        "        return link, None\n",
        "def download(dic):\n",
        "  for key, value in dic.items():\n",
        "    check(key)\n",
        "    value = value.replace(\"&\", \"\\&\")\n",
        "    valuelink, valuename = split_string_at(value)\n",
        "    valuelink = valuelink.split(\"?\")[0]\n",
        "    valuelink = check_link(valuelink)\n",
        "    if value != \"\" :\n",
        "      if valuename != None :\n",
        "        !wget {valuelink}{token(value)} -O {key}/{valuename}\n",
        "      else :\n",
        "        !wget {valuelink}{token(value)} -P {key} --content-disposition\n",
        "\n",
        "download(drive_dict)"
      ]
    },
    {
      "cell_type": "markdown",
      "metadata": {
        "id": "vraW87juNNhp"
      },
      "source": [
        "#Custom"
      ]
    },
    {
      "cell_type": "code",
      "execution_count": null,
      "metadata": {
        "cellView": "form",
        "id": "bof43DqMNEdk"
      },
      "outputs": [],
      "source": [
        "#@title ✨ Custom Download\n",
        "from google.colab import drive\n",
        "drive.mount('/content/drive')\n",
        "\n",
        "!sudo apt-get install -y aria2\n",
        "Link = \"\" #@param{type:\"string\"}\n",
        "Path = \"\" #@param{type:\"string\"}\n",
        "Name = \"\" #@param{type:\"string\"}\n",
        "!aria2c --console-log-level=error --summary-interval=10 -c -x 16 -s 16 -k 1M {Link} -d {Path} -o {Name}"
      ]
    }
  ],
  "metadata": {
    "colab": {
      "private_outputs": true,
      "provenance": [],
      "collapsed_sections": [
        "vraW87juNNhp"
      ]
    },
    "gpuClass": "standard",
    "kernelspec": {
      "display_name": "Python 3",
      "name": "python3"
    },
    "language_info": {
      "name": "python"
    }
  },
  "nbformat": 4,
  "nbformat_minor": 0
}